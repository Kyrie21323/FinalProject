{
 "cells": [
  {
   "cell_type": "code",
   "execution_count": 1,
   "metadata": {},
   "outputs": [],
   "source": [
    "import creds\n",
    "from googleapiclient.discovery import build\n",
    "import pandas as pd\n",
    "import seaborn as sns"
   ]
  },
  {
   "cell_type": "code",
   "execution_count": 16,
   "metadata": {},
   "outputs": [],
   "source": [
    "API_KEY = creds.YT_api\n",
    "channel_ids = ['UCX6OQ3DkcsbYNE6H8uQQuVA',\n",
    "               'UCxgAuX3XZROujMmGphN_scA',\n",
    "               'UCqECaJ8Gagnn7YCbPEzWH6g',\n",
    "               'UC0WP5P-ufpRfjbNrmOWwLBQ']\n",
    "influencer = 'Mark Tilbury'\n"
   ]
  },
  {
   "cell_type": "code",
   "execution_count": 24,
   "metadata": {},
   "outputs": [],
   "source": [
    "api_service_name = \"youtube\"\n",
    "api_version = \"v3\"\n",
    "client_secrets_file = \"YOUR_CLIENT_SECRET_FILE.json\"\n",
    "youtube = build(api_service_name, api_version, developerKey=API_KEY)\n"
   ]
  },
  {
   "cell_type": "markdown",
   "metadata": {},
   "source": [
    "# Function to get channel stats for further analysis for the Vibecheck"
   ]
  },
  {
   "cell_type": "code",
   "execution_count": 25,
   "metadata": {},
   "outputs": [],
   "source": [
    "def get_channel_stats(youtube, channel_ids):\n",
    "    data_list = []\n",
    "    request = youtube.channels().list(\n",
    "        part=\"snippet,contentDetails,statistics\",\n",
    "        id=','.join(channel_ids)\n",
    "    )\n",
    "    response = request.execute()\n",
    "    for i in range(len(response['items'])):\n",
    "        data = dict(channel_name = response['items'][i]['snippet']['title'],\n",
    "                    subscriber_count = response['items'][i]['statistics']['subscriberCount'],\n",
    "                    view_count = response['items'][i]['statistics']['viewCount'],\n",
    "                    video_count = response['items'][i]['statistics']['videoCount'],\n",
    "                    playlist_id = response['items'][i]['contentDetails']['relatedPlaylists']['uploads'])\n",
    "        data_list.append(data)\n",
    "    return data_list"
   ]
  },
  {
   "cell_type": "code",
   "execution_count": 26,
   "metadata": {},
   "outputs": [],
   "source": [
    "channel_data = get_channel_stats(youtube, channel_ids)"
   ]
  },
  {
   "cell_type": "code",
   "execution_count": 32,
   "metadata": {},
   "outputs": [],
   "source": [
    "# Function to get the latest video link from a playlist\n",
    "def get_latest_video_link(youtube, playlist_id):\n",
    "    request = youtube.playlistItems().list(\n",
    "        part=\"snippet\",\n",
    "        playlistId=playlist_id,\n",
    "        maxResults=1\n",
    "    )\n",
    "    response = request.execute()\n",
    "    video_id = response['items'][0]['snippet']['resourceId']['videoId']\n",
    "    video_link = f\"https://www.youtube.com/watch?v={video_id}\"\n",
    "    return video_link"
   ]
  },
  {
   "cell_type": "code",
   "execution_count": 33,
   "metadata": {},
   "outputs": [],
   "source": [
    "# Add latest video link to each channel's data\n",
    "for channel in channel_data:\n",
    "    latest_video_link = get_latest_video_link(youtube, channel['playlist_id'])\n",
    "    channel['latest_video_link'] = latest_video_link"
   ]
  },
  {
   "cell_type": "code",
   "execution_count": null,
   "metadata": {},
   "outputs": [],
   "source": [
    "stats = pd.DataFrame(channel_data)"
   ]
  },
  {
   "cell_type": "code",
   "execution_count": 35,
   "metadata": {},
   "outputs": [],
   "source": [
    "stats['subscriber_count'] = pd.to_numeric(stats['subscriber_count'])\n",
    "stats['view_count'] = pd.to_numeric(stats['view_count'])\n",
    "stats['video_count'] = pd.to_numeric(stats['video_count'])"
   ]
  },
  {
   "cell_type": "code",
   "execution_count": 36,
   "metadata": {},
   "outputs": [],
   "source": [
    "stats.to_csv('stats.csv')"
   ]
  },
  {
   "cell_type": "code",
   "execution_count": 37,
   "metadata": {},
   "outputs": [
    {
     "data": {
      "text/html": [
       "<div>\n",
       "<style scoped>\n",
       "    .dataframe tbody tr th:only-of-type {\n",
       "        vertical-align: middle;\n",
       "    }\n",
       "\n",
       "    .dataframe tbody tr th {\n",
       "        vertical-align: top;\n",
       "    }\n",
       "\n",
       "    .dataframe thead th {\n",
       "        text-align: right;\n",
       "    }\n",
       "</style>\n",
       "<table border=\"1\" class=\"dataframe\">\n",
       "  <thead>\n",
       "    <tr style=\"text-align: right;\">\n",
       "      <th></th>\n",
       "      <th>channel_name</th>\n",
       "      <th>subscriber_count</th>\n",
       "      <th>view_count</th>\n",
       "      <th>video_count</th>\n",
       "      <th>playlist_id</th>\n",
       "      <th>latest_video_link</th>\n",
       "    </tr>\n",
       "  </thead>\n",
       "  <tbody>\n",
       "    <tr>\n",
       "      <th>0</th>\n",
       "      <td>Taylor Swift</td>\n",
       "      <td>60100000</td>\n",
       "      <td>36912943387</td>\n",
       "      <td>274</td>\n",
       "      <td>UUqECaJ8Gagnn7YCbPEzWH6g</td>\n",
       "      <td>https://www.youtube.com/watch?v=b6zPqm0lLQs</td>\n",
       "    </tr>\n",
       "    <tr>\n",
       "      <th>1</th>\n",
       "      <td>The Weeknd</td>\n",
       "      <td>36200000</td>\n",
       "      <td>28856231678</td>\n",
       "      <td>188</td>\n",
       "      <td>UU0WP5P-ufpRfjbNrmOWwLBQ</td>\n",
       "      <td>https://www.youtube.com/watch?v=UhNwFRzJ1jw</td>\n",
       "    </tr>\n",
       "    <tr>\n",
       "      <th>2</th>\n",
       "      <td>Mark Tilbury</td>\n",
       "      <td>3730000</td>\n",
       "      <td>615573351</td>\n",
       "      <td>164</td>\n",
       "      <td>UUxgAuX3XZROujMmGphN_scA</td>\n",
       "      <td>https://www.youtube.com/watch?v=PjH5DJkR0k4</td>\n",
       "    </tr>\n",
       "    <tr>\n",
       "      <th>3</th>\n",
       "      <td>MrBeast</td>\n",
       "      <td>319000000</td>\n",
       "      <td>60450070160</td>\n",
       "      <td>820</td>\n",
       "      <td>UUX6OQ3DkcsbYNE6H8uQQuVA</td>\n",
       "      <td>https://www.youtube.com/watch?v=Kt2HvqRruHQ</td>\n",
       "    </tr>\n",
       "  </tbody>\n",
       "</table>\n",
       "</div>"
      ],
      "text/plain": [
       "   channel_name  subscriber_count   view_count  video_count  \\\n",
       "0  Taylor Swift          60100000  36912943387          274   \n",
       "1    The Weeknd          36200000  28856231678          188   \n",
       "2  Mark Tilbury           3730000    615573351          164   \n",
       "3       MrBeast         319000000  60450070160          820   \n",
       "\n",
       "                playlist_id                            latest_video_link  \n",
       "0  UUqECaJ8Gagnn7YCbPEzWH6g  https://www.youtube.com/watch?v=b6zPqm0lLQs  \n",
       "1  UU0WP5P-ufpRfjbNrmOWwLBQ  https://www.youtube.com/watch?v=UhNwFRzJ1jw  \n",
       "2  UUxgAuX3XZROujMmGphN_scA  https://www.youtube.com/watch?v=PjH5DJkR0k4  \n",
       "3  UUX6OQ3DkcsbYNE6H8uQQuVA  https://www.youtube.com/watch?v=Kt2HvqRruHQ  "
      ]
     },
     "execution_count": 37,
     "metadata": {},
     "output_type": "execute_result"
    }
   ],
   "source": [
    "stats"
   ]
  },
  {
   "cell_type": "code",
   "execution_count": null,
   "metadata": {},
   "outputs": [],
   "source": []
  },
  {
   "cell_type": "code",
   "execution_count": null,
   "metadata": {},
   "outputs": [],
   "source": []
  },
  {
   "cell_type": "code",
   "execution_count": null,
   "metadata": {},
   "outputs": [],
   "source": []
  }
 ],
 "metadata": {
  "kernelspec": {
   "display_name": "data_science",
   "language": "python",
   "name": "python3"
  },
  "language_info": {
   "codemirror_mode": {
    "name": "ipython",
    "version": 3
   },
   "file_extension": ".py",
   "mimetype": "text/x-python",
   "name": "python",
   "nbconvert_exporter": "python",
   "pygments_lexer": "ipython3",
   "version": "3.12.1"
  }
 },
 "nbformat": 4,
 "nbformat_minor": 2
}
