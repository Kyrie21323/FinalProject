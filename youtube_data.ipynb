{
 "cells": [
  {
   "cell_type": "code",
   "execution_count": 2,
   "metadata": {},
   "outputs": [],
   "source": [
    "# import the necessary packages\n",
    "import creds\n",
    "from googleapiclient.discovery import build\n",
    "import pandas as pd\n",
    "#import seaborn as sns"
   ]
  },
  {
   "cell_type": "code",
   "execution_count": 3,
   "metadata": {},
   "outputs": [],
   "source": [
    "# set up the YouTube API\n",
    "# creds.py contains the API key as variable YT_api\n",
    "# for security reasons, this file is not included in the repository\n",
    "# structure of the creds.py file:\n",
    "# YT_api = 'your_api_key'\n",
    "API_KEY = creds.YT_api\n",
    "# channel_ids is a list of channel ids for the influencers\n",
    "channel_ids = ['UCX6OQ3DkcsbYNE6H8uQQuVA',\n",
    "               'UCxgAuX3XZROujMmGphN_scA',\n",
    "               'UCqECaJ8Gagnn7YCbPEzWH6g',\n",
    "               'UC0WP5P-ufpRfjbNrmOWwLBQ']\n",
    "#influencer = 'Mark Tilbury'\n"
   ]
  },
  {
   "cell_type": "code",
   "execution_count": 4,
   "metadata": {},
   "outputs": [],
   "source": [
    "\n",
    "# setting up the YouTube API service by defining the API service name and version\n",
    "api_service_name = \"youtube\"\n",
    "api_version = \"v3\"\n",
    "client_secrets_file = \"YOUR_CLIENT_SECRET_FILE.json\"\n",
    "# creating the youtube variable that will be used to access the YouTube API\n",
    "youtube = build(api_service_name, api_version, developerKey=API_KEY)\n"
   ]
  },
  {
   "cell_type": "markdown",
   "metadata": {},
   "source": [
    "# Function to get channel stats for further analysis for the Vibecheck"
   ]
  },
  {
   "cell_type": "code",
   "execution_count": 5,
   "metadata": {},
   "outputs": [],
   "source": [
    "# function to get the video statistics\n",
    "\n",
    "def get_channel_stats(youtube, channel_ids):\n",
    "    data_list = [] # list to store the data\n",
    "    request = youtube.channels().list(\n",
    "        part=\"snippet,contentDetails,statistics\",\n",
    "        id=','.join(channel_ids)\n",
    "    ) # request to get the channel statistics for further processing\n",
    "    response = request.execute() \n",
    "    # loop through the response and store the data in the data_list according to the channel id list\n",
    "    for i in range(len(response['items'])):\n",
    "        # store the data in a dictionary\n",
    "        data = dict(Name = response['items'][i]['snippet']['title'],\n",
    "                    subscriber_count = response['items'][i]['statistics']['subscriberCount'],\n",
    "                    view_count = response['items'][i]['statistics']['viewCount'],\n",
    "                    video_count = response['items'][i]['statistics']['videoCount'],\n",
    "                    playlist_id = response['items'][i]['contentDetails']['relatedPlaylists']['uploads'])\n",
    "        data_list.append(data) # append the dictionary data to the data_list\n",
    "    return data_list"
   ]
  },
  {
   "cell_type": "code",
   "execution_count": 6,
   "metadata": {},
   "outputs": [],
   "source": [
    "channel_data = get_channel_stats(youtube, channel_ids)"
   ]
  },
  {
   "cell_type": "code",
   "execution_count": 7,
   "metadata": {},
   "outputs": [],
   "source": [
    "# Function to get the latest video link from a playlist\n",
    "def get_latest_video_link(youtube, playlist_id): # using the playlist id that we fetched earlier using the get_channel_stats function\n",
    "    request = youtube.playlistItems().list(\n",
    "        part=\"snippet\",\n",
    "        playlistId=playlist_id,\n",
    "        maxResults=1\n",
    "    )\n",
    "    # getting the video id and title from the response\n",
    "    response = request.execute()\n",
    "    video_id = response['items'][0]['snippet']['resourceId']['videoId']\n",
    "    video_title = response['items'][0]['snippet']['title']\n",
    "    video_link = f\"https://www.youtube.com/watch?v={video_id}\" # creating the video link using the video id\n",
    "    return video_title, video_link"
   ]
  },
  {
   "cell_type": "code",
   "execution_count": 8,
   "metadata": {},
   "outputs": [],
   "source": [
    "# Add latest video link to each channel's data\n",
    "for channel in channel_data:\n",
    "    video_title, latest_video_link = get_latest_video_link(youtube, channel['playlist_id'])\n",
    "    channel['Title'] = video_title\n",
    "    channel['URL'] = latest_video_link"
   ]
  },
  {
   "cell_type": "code",
   "execution_count": 9,
   "metadata": {},
   "outputs": [],
   "source": [
    "# create a pandas DataFrame to store the channel data\n",
    "stats = pd.DataFrame(channel_data)"
   ]
  },
  {
   "cell_type": "code",
   "execution_count": 10,
   "metadata": {},
   "outputs": [],
   "source": [
    "# change the data types of the certain columns to numeric\n",
    "stats['subscriber_count'] = pd.to_numeric(stats['subscriber_count'])\n",
    "stats['view_count'] = pd.to_numeric(stats['view_count'])\n",
    "stats['video_count'] = pd.to_numeric(stats['video_count'])"
   ]
  },
  {
   "cell_type": "code",
   "execution_count": 11,
   "metadata": {},
   "outputs": [
    {
     "data": {
      "text/html": [
       "<div>\n",
       "<style scoped>\n",
       "    .dataframe tbody tr th:only-of-type {\n",
       "        vertical-align: middle;\n",
       "    }\n",
       "\n",
       "    .dataframe tbody tr th {\n",
       "        vertical-align: top;\n",
       "    }\n",
       "\n",
       "    .dataframe thead th {\n",
       "        text-align: right;\n",
       "    }\n",
       "</style>\n",
       "<table border=\"1\" class=\"dataframe\">\n",
       "  <thead>\n",
       "    <tr style=\"text-align: right;\">\n",
       "      <th></th>\n",
       "      <th>Name</th>\n",
       "      <th>subscriber_count</th>\n",
       "      <th>view_count</th>\n",
       "      <th>video_count</th>\n",
       "      <th>playlist_id</th>\n",
       "      <th>Title</th>\n",
       "      <th>URL</th>\n",
       "    </tr>\n",
       "  </thead>\n",
       "  <tbody>\n",
       "    <tr>\n",
       "      <th>0</th>\n",
       "      <td>MrBeast</td>\n",
       "      <td>319000000</td>\n",
       "      <td>60516236462</td>\n",
       "      <td>820</td>\n",
       "      <td>UUX6OQ3DkcsbYNE6H8uQQuVA</td>\n",
       "      <td>Find The Real MrBeast, Win $10,000</td>\n",
       "      <td>https://www.youtube.com/watch?v=Kt2HvqRruHQ</td>\n",
       "    </tr>\n",
       "    <tr>\n",
       "      <th>1</th>\n",
       "      <td>Taylor Swift</td>\n",
       "      <td>60100000</td>\n",
       "      <td>36912943387</td>\n",
       "      <td>274</td>\n",
       "      <td>UUqECaJ8Gagnn7YCbPEzWH6g</td>\n",
       "      <td>Taylor Swift - I Can Do It With A Broken Heart...</td>\n",
       "      <td>https://www.youtube.com/watch?v=b6zPqm0lLQs</td>\n",
       "    </tr>\n",
       "    <tr>\n",
       "      <th>2</th>\n",
       "      <td>The Weeknd</td>\n",
       "      <td>36200000</td>\n",
       "      <td>28856231678</td>\n",
       "      <td>187</td>\n",
       "      <td>UU0WP5P-ufpRfjbNrmOWwLBQ</td>\n",
       "      <td>#BlackOps6 #TheReplacer #CODPartner</td>\n",
       "      <td>https://www.youtube.com/watch?v=UhNwFRzJ1jw</td>\n",
       "    </tr>\n",
       "    <tr>\n",
       "      <th>3</th>\n",
       "      <td>Mark Tilbury</td>\n",
       "      <td>3740000</td>\n",
       "      <td>617622476</td>\n",
       "      <td>165</td>\n",
       "      <td>UUxgAuX3XZROujMmGphN_scA</td>\n",
       "      <td>THE BIGGEST WEALTH KILLER EVER</td>\n",
       "      <td>https://www.youtube.com/watch?v=PjH5DJkR0k4</td>\n",
       "    </tr>\n",
       "  </tbody>\n",
       "</table>\n",
       "</div>"
      ],
      "text/plain": [
       "           Name  subscriber_count   view_count  video_count  \\\n",
       "0       MrBeast         319000000  60516236462          820   \n",
       "1  Taylor Swift          60100000  36912943387          274   \n",
       "2    The Weeknd          36200000  28856231678          187   \n",
       "3  Mark Tilbury           3740000    617622476          165   \n",
       "\n",
       "                playlist_id  \\\n",
       "0  UUX6OQ3DkcsbYNE6H8uQQuVA   \n",
       "1  UUqECaJ8Gagnn7YCbPEzWH6g   \n",
       "2  UU0WP5P-ufpRfjbNrmOWwLBQ   \n",
       "3  UUxgAuX3XZROujMmGphN_scA   \n",
       "\n",
       "                                               Title  \\\n",
       "0                 Find The Real MrBeast, Win $10,000   \n",
       "1  Taylor Swift - I Can Do It With A Broken Heart...   \n",
       "2                #BlackOps6 #TheReplacer #CODPartner   \n",
       "3                     THE BIGGEST WEALTH KILLER EVER   \n",
       "\n",
       "                                           URL  \n",
       "0  https://www.youtube.com/watch?v=Kt2HvqRruHQ  \n",
       "1  https://www.youtube.com/watch?v=b6zPqm0lLQs  \n",
       "2  https://www.youtube.com/watch?v=UhNwFRzJ1jw  \n",
       "3  https://www.youtube.com/watch?v=PjH5DJkR0k4  "
      ]
     },
     "execution_count": 11,
     "metadata": {},
     "output_type": "execute_result"
    }
   ],
   "source": [
    "stats"
   ]
  },
  {
   "cell_type": "code",
   "execution_count": 12,
   "metadata": {},
   "outputs": [],
   "source": [
    "# function to get the top comments from the latest video\n",
    "\n",
    "def get_top_comments(youtube, video_id): # using the video id that we fetched earlier using the get_latest_video_link function\n",
    "    request = youtube.commentThreads().list(\n",
    "        part=\"snippet\",\n",
    "        videoId=video_id,\n",
    "        maxResults=10, # we can tweak this number to get more or less comments\n",
    "        order=\"relevance\" # getting the top comments based on relevance\n",
    "    )\n",
    "    response = request.execute()\n",
    "    comments_data = []\n",
    "    # loop through the response and store the top comments in the comments_data list\n",
    "    for item in response['items']:\n",
    "        comment = item['snippet']['topLevelComment']['snippet']['textDisplay']\n",
    "        author = item['snippet']['topLevelComment']['snippet']['authorDisplayName']\n",
    "        comments_data.append({'author': author, 'comment': comment}) # append the author and comment to the comments_data list\n",
    "    return comments_data"
   ]
  },
  {
   "cell_type": "code",
   "execution_count": 13,
   "metadata": {},
   "outputs": [],
   "source": [
    "comments_list = [] # list to store the comments data\n",
    "for channel in channel_data:\n",
    "    video_id = channel['URL'].split('=')[-1] # getting the video id from the video link\n",
    "    comments_data = get_top_comments(youtube, video_id) # getting the top comments for the video\n",
    "    comments_df = pd.DataFrame(comments_data) # creating a DataFrame from the comments data\n",
    "    comments_list.append(comments_df) # append the DataFrame to the comments_list"
   ]
  },
  {
   "cell_type": "code",
   "execution_count": 14,
   "metadata": {},
   "outputs": [],
   "source": [
    "# Save the stats DataFrame to a CSV file\n",
    "stats.to_csv('channel_stats.csv', index=False)"
   ]
  },
  {
   "cell_type": "code",
   "execution_count": 15,
   "metadata": {},
   "outputs": [],
   "source": [
    "# Initialize an empty list to hold all comments with channel information\n",
    "all_comments = []\n",
    "\n",
    "# Loop through each channel's comments and add channel name\n",
    "for i, comments_df in enumerate(comments_list):\n",
    "    # Add the channel name or video title to each comment\n",
    "    comments_df['Name'] = channel_data[i]['Name']\n",
    "    comments_df['video_title'] = channel_data[i]['Title']\n",
    "    all_comments.append(comments_df)\n",
    "\n",
    "# Concatenate all comments DataFrames into one\n",
    "all_comments_df = pd.concat(all_comments, ignore_index=True)"
   ]
  },
  {
   "cell_type": "code",
   "execution_count": 16,
   "metadata": {},
   "outputs": [],
   "source": [
    "# Save the combined comments DataFrame to a CSV file\n",
    "all_comments_df.to_csv('all_comments.csv', index=False)"
   ]
  }
 ],
 "metadata": {
  "kernelspec": {
   "display_name": "data_science",
   "language": "python",
   "name": "python3"
  },
  "language_info": {
   "codemirror_mode": {
    "name": "ipython",
    "version": 3
   },
   "file_extension": ".py",
   "mimetype": "text/x-python",
   "name": "python",
   "nbconvert_exporter": "python",
   "pygments_lexer": "ipython3",
   "version": "3.12.1"
  }
 },
 "nbformat": 4,
 "nbformat_minor": 2
}
